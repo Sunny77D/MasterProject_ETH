{
 "cells": [
  {
   "cell_type": "code",
   "execution_count": 47,
   "metadata": {},
   "outputs": [],
   "source": [
    "import torch\n",
    "import torch.nn as nn\n",
    "import torch.nn.functional as F\n",
    "import torch.optim as optim\n",
    "import torchvision.transforms as transforms"
   ]
  },
  {
   "cell_type": "code",
   "execution_count": 48,
   "metadata": {
    "scrolled": true
   },
   "outputs": [],
   "source": [
    "import keras.backend as K\n",
    "from keras.models import Sequential\n",
    "from keras.layers import Dense, Embedding, Lambda\n",
    "import numpy as np\n",
    "import pandas as pd\n",
    "#our additions\n",
    "import json\n",
    "import sklearn"
   ]
  },
  {
   "cell_type": "code",
   "execution_count": 49,
   "metadata": {},
   "outputs": [],
   "source": [
    "def size(data): \n",
    "    uniqueVocab = []\n",
    "    for i in range(len(data)):\n",
    "        for j in range(len(data[0])):\n",
    "            vocab = data[i][j]\n",
    "            if vocab not in uniqueVocab and vocab == vocab:\n",
    "                uniqueVocab.append(vocab)\n",
    "    print(uniqueVocab)\n",
    "    return len(uniqueVocab)"
   ]
  },
  {
   "cell_type": "code",
   "execution_count": 50,
   "metadata": {},
   "outputs": [],
   "source": [
    "def wordTokenizer(data):\n",
    "    i = 1\n",
    "    word2id = {}\n",
    "    id2word = {}\n",
    "    for words in data:\n",
    "        for word in words:\n",
    "            if type(word) != float:\n",
    "                if word not in word2id.keys():\n",
    "                    word2id[word] = i\n",
    "                    id2word[i] = word\n",
    "                    i += 1\n",
    "    return word2id, id2word"
   ]
  },
  {
   "cell_type": "code",
   "execution_count": 51,
   "metadata": {},
   "outputs": [
    {
     "name": "stdout",
     "output_type": "stream",
     "text": [
      "{'N': 1, 'O': 2, 'P': 3, 'V': 4, 'J': 5, 'X': 6, 'D': 7, 'G': 8, 'W': 9, 'S': 10, 'R': 11, 'T': 12, 'I': 13, 'B': 14, 'C': 15, 'F': 16, 'K': 17, 'L': 18, 'M': 19, 'A': 20, 'E': 21, 'H': 22, 'U': 23, 'Q': 24}\n"
     ]
    }
   ],
   "source": [
    "data  = np.genfromtxt('.\\\\testFileAlpha.csv')\n",
    "df=pd.read_csv('testFileAlpha.csv', sep=',',header=None)\n",
    "data = df.to_numpy()\n",
    "data = np.delete(data, 0, 0)\n",
    "data = np.delete(data, 0, 1)\n",
    "words2id, ids2words = wordTokenizer(data)\n",
    "print(words2id)"
   ]
  },
  {
   "cell_type": "code",
   "execution_count": 52,
   "metadata": {
    "scrolled": false
   },
   "outputs": [
    {
     "name": "stdout",
     "output_type": "stream",
     "text": [
      "{1: 'N', 2: 'O', 3: 'P', 4: 'V', 5: 'J', 6: 'X', 7: 'D', 8: 'G', 9: 'W', 10: 'S', 11: 'R', 12: 'T', 13: 'I', 14: 'B', 15: 'C', 16: 'F', 17: 'K', 18: 'L', 19: 'M', 20: 'A', 21: 'E', 22: 'H', 23: 'U', 24: 'Q'}\n"
     ]
    }
   ],
   "source": [
    "print(ids2words)"
   ]
  },
  {
   "cell_type": "code",
   "execution_count": 53,
   "metadata": {},
   "outputs": [],
   "source": [
    "words2id['PAD'] = 25\n",
    "ids2words[25] = 'PAD'\n",
    "padID = 25"
   ]
  },
  {
   "cell_type": "code",
   "execution_count": 54,
   "metadata": {},
   "outputs": [],
   "source": [
    "def convertData(data):\n",
    "    widDict = {}\n",
    "    \n",
    "    for i in range(len(data)):\n",
    "        widDict[i] = []\n",
    "        for x in data[i]:\n",
    "            if type(x) != float:\n",
    "                widDict[i].append(words2id[x])\n",
    "    return widDict"
   ]
  },
  {
   "cell_type": "code",
   "execution_count": 74,
   "metadata": {},
   "outputs": [],
   "source": [
    "vocab_size = len(words2id) + 1\n",
    "embed_size = len(words2id)\n",
    "window_size = 1\n",
    "wids = convertData(data)\n",
    "# print(wids)"
   ]
  },
  {
   "cell_type": "code",
   "execution_count": 75,
   "metadata": {},
   "outputs": [],
   "source": [
    "from keras.preprocessing import text\n",
    "from keras.utils import np_utils\n",
    "from keras.preprocessing import sequence"
   ]
  },
  {
   "cell_type": "code",
   "execution_count": 76,
   "metadata": {
    "scrolled": true
   },
   "outputs": [
    {
     "name": "stdout",
     "output_type": "stream",
     "text": [
      "Context (X): ['N', 'P'] -> Target (Y): O\n",
      "Context (X): ['O', 'V'] -> Target (Y): P\n",
      "Context (X): ['W', 'R'] -> Target (Y): S\n",
      "Context (X): ['S', 'T'] -> Target (Y): R\n",
      "Context (X): ['I', 'X'] -> Target (Y): J\n",
      "Context (X): ['N', 'P'] -> Target (Y): O\n",
      "Context (X): ['O', 'V'] -> Target (Y): P\n",
      "Context (X): ['B', 'D'] -> Target (Y): C\n",
      "Context (X): ['C', 'G'] -> Target (Y): D\n",
      "Context (X): ['O', 'V'] -> Target (Y): P\n",
      "Context (X): ['B', 'D'] -> Target (Y): C\n"
     ]
    }
   ],
   "source": [
    "def generate_context_word_pairs(corpus, window_size, vocab_size):\n",
    "    context_length = window_size*2\n",
    "    for words in corpus:\n",
    "        setCodes = corpus[words]\n",
    "        # print('Set Codes: ', setCodes)\n",
    "        sentence_length = len(setCodes)\n",
    "        for index, word in enumerate(setCodes):\n",
    "            # print('Index: ', index)\n",
    "            context_words = []\n",
    "            label_word   = []            \n",
    "            start = index - window_size\n",
    "            end = index + window_size + 1\n",
    "            context_words.append([setCodes[i] \n",
    "                                 for i in range(start, end) \n",
    "                                 if 0 <= i < sentence_length \n",
    "                                 and i != index])\n",
    "            # print('Target Word: ', word)\n",
    "            label_word.append(word)\n",
    "            \n",
    "            #print(\"context_words: \", context_words)\n",
    "            x = sequence.pad_sequences(context_words, maxlen=context_length)\n",
    "            #print('X: ', x)\n",
    "            y = np_utils.to_categorical(label_word, vocab_size)\n",
    "            # print('Y: ', y)\n",
    "            yield (x, y)\n",
    "            \n",
    "            \n",
    "# Test this out for some samples\n",
    "i = 0\n",
    "for x, y in generate_context_word_pairs(corpus=wids, window_size=window_size, vocab_size=vocab_size):\n",
    "    if 0 not in x[0]:\n",
    "        print('Context (X):', [ids2words[w] for w in x[0]], '-> Target (Y):', ids2words[np.argwhere(y[0])[0][0]])\n",
    "            \n",
    "        if i == 10:\n",
    "            break\n",
    "        i += 1"
   ]
  },
  {
   "cell_type": "code",
   "execution_count": 77,
   "metadata": {},
   "outputs": [
    {
     "name": "stdout",
     "output_type": "stream",
     "text": [
      "_________________________________________________________________\n",
      "Layer (type)                 Output Shape              Param #   \n",
      "=================================================================\n",
      "embedding_3 (Embedding)      (None, 2, 25)             650       \n",
      "_________________________________________________________________\n",
      "lambda_3 (Lambda)            (None, 25)                0         \n",
      "_________________________________________________________________\n",
      "dense_4 (Dense)              (None, 26)                676       \n",
      "=================================================================\n",
      "Total params: 1,326\n",
      "Trainable params: 1,326\n",
      "Non-trainable params: 0\n",
      "_________________________________________________________________\n",
      "None\n"
     ]
    }
   ],
   "source": [
    "cbow = Sequential()\n",
    "cbow.add(Embedding(input_dim=vocab_size, output_dim=embed_size, input_length=window_size*2))\n",
    "cbow.add(Lambda(lambda x: K.mean(x, axis=1), output_shape=(embed_size,)))\n",
    "cbow.add(Dense(vocab_size, activation='softmax'))\n",
    "cbow.compile(loss='categorical_crossentropy', optimizer='rmsprop')\n",
    "\n",
    "# view model summary\n",
    "print(cbow.summary())\n",
    "\n",
    "# # visualize model structure\n",
    "# from IPython.display import SVG\n",
    "# from keras.utils.vis_utils import model_to_dot\n",
    "\n",
    "# SVG(model_to_dot(cbow, show_shapes=True, show_layer_names=False, \n",
    "#                  rankdir='TB').create(prog='dot', format='svg'))"
   ]
  },
  {
   "cell_type": "code",
   "execution_count": 78,
   "metadata": {
    "scrolled": true
   },
   "outputs": [
    {
     "name": "stdout",
     "output_type": "stream",
     "text": [
      "Processed 10000 (context, word) pairs\n",
      "Processed 20000 (context, word) pairs\n",
      "Epoch: 1 \tLoss: 21838.24539357942\n",
      "\n",
      "Processed 10000 (context, word) pairs\n",
      "Processed 20000 (context, word) pairs\n",
      "Epoch: 2 \tLoss: 17248.291811601608\n",
      "\n",
      "Processed 10000 (context, word) pairs\n",
      "Processed 20000 (context, word) pairs\n",
      "Epoch: 3 \tLoss: 17489.279661152435\n",
      "\n",
      "Processed 10000 (context, word) pairs\n",
      "Processed 20000 (context, word) pairs\n",
      "Epoch: 4 \tLoss: 17448.51075514397\n",
      "\n",
      "Processed 10000 (context, word) pairs\n",
      "Processed 20000 (context, word) pairs\n",
      "Epoch: 5 \tLoss: 17603.36058318994\n",
      "\n"
     ]
    }
   ],
   "source": [
    "for epoch in range(1, 6):\n",
    "    loss = 0.\n",
    "    i = 0\n",
    "    for x, y in generate_context_word_pairs(corpus=wids, window_size=window_size, vocab_size=vocab_size):\n",
    "        i += 1\n",
    "        loss += cbow.train_on_batch(x, y)\n",
    "        if i % 10000 == 0:\n",
    "            print('Processed {} (context, word) pairs'.format(i))\n",
    "\n",
    "    print('Epoch:', epoch, '\\tLoss:', loss)\n",
    "    print()"
   ]
  },
  {
   "cell_type": "code",
   "execution_count": 81,
   "metadata": {},
   "outputs": [
    {
     "name": "stdout",
     "output_type": "stream",
     "text": [
      "(25, 25)\n"
     ]
    },
    {
     "data": {
      "text/html": [
       "<div>\n",
       "<style scoped>\n",
       "    .dataframe tbody tr th:only-of-type {\n",
       "        vertical-align: middle;\n",
       "    }\n",
       "\n",
       "    .dataframe tbody tr th {\n",
       "        vertical-align: top;\n",
       "    }\n",
       "\n",
       "    .dataframe thead th {\n",
       "        text-align: right;\n",
       "    }\n",
       "</style>\n",
       "<table border=\"1\" class=\"dataframe\">\n",
       "  <thead>\n",
       "    <tr style=\"text-align: right;\">\n",
       "      <th></th>\n",
       "      <th>0</th>\n",
       "      <th>1</th>\n",
       "      <th>2</th>\n",
       "      <th>3</th>\n",
       "      <th>4</th>\n",
       "      <th>5</th>\n",
       "      <th>6</th>\n",
       "      <th>7</th>\n",
       "      <th>8</th>\n",
       "      <th>9</th>\n",
       "      <th>...</th>\n",
       "      <th>15</th>\n",
       "      <th>16</th>\n",
       "      <th>17</th>\n",
       "      <th>18</th>\n",
       "      <th>19</th>\n",
       "      <th>20</th>\n",
       "      <th>21</th>\n",
       "      <th>22</th>\n",
       "      <th>23</th>\n",
       "      <th>24</th>\n",
       "    </tr>\n",
       "  </thead>\n",
       "  <tbody>\n",
       "    <tr>\n",
       "      <th>N</th>\n",
       "      <td>-2.011606</td>\n",
       "      <td>-2.502116</td>\n",
       "      <td>-0.211493</td>\n",
       "      <td>3.402747</td>\n",
       "      <td>-0.626191</td>\n",
       "      <td>-0.489525</td>\n",
       "      <td>2.146285</td>\n",
       "      <td>0.753448</td>\n",
       "      <td>-3.107705</td>\n",
       "      <td>0.700621</td>\n",
       "      <td>...</td>\n",
       "      <td>-1.667954</td>\n",
       "      <td>2.424764</td>\n",
       "      <td>1.998730</td>\n",
       "      <td>1.956810</td>\n",
       "      <td>1.723092</td>\n",
       "      <td>-3.418121</td>\n",
       "      <td>1.555783</td>\n",
       "      <td>-0.813960</td>\n",
       "      <td>-1.671171</td>\n",
       "      <td>-2.873601</td>\n",
       "    </tr>\n",
       "    <tr>\n",
       "      <th>O</th>\n",
       "      <td>3.429666</td>\n",
       "      <td>1.042983</td>\n",
       "      <td>-0.467640</td>\n",
       "      <td>-0.811732</td>\n",
       "      <td>1.996042</td>\n",
       "      <td>3.908663</td>\n",
       "      <td>-2.994953</td>\n",
       "      <td>-3.633188</td>\n",
       "      <td>2.557302</td>\n",
       "      <td>-5.214131</td>\n",
       "      <td>...</td>\n",
       "      <td>-0.138561</td>\n",
       "      <td>-1.430546</td>\n",
       "      <td>3.990683</td>\n",
       "      <td>0.153000</td>\n",
       "      <td>-1.709273</td>\n",
       "      <td>4.670515</td>\n",
       "      <td>-1.824152</td>\n",
       "      <td>0.147551</td>\n",
       "      <td>-2.928664</td>\n",
       "      <td>0.328893</td>\n",
       "    </tr>\n",
       "    <tr>\n",
       "      <th>P</th>\n",
       "      <td>3.860654</td>\n",
       "      <td>3.069140</td>\n",
       "      <td>-4.729945</td>\n",
       "      <td>-0.156819</td>\n",
       "      <td>-0.320247</td>\n",
       "      <td>0.538922</td>\n",
       "      <td>-2.132956</td>\n",
       "      <td>-0.877924</td>\n",
       "      <td>0.125836</td>\n",
       "      <td>1.435138</td>\n",
       "      <td>...</td>\n",
       "      <td>-0.099913</td>\n",
       "      <td>-3.309171</td>\n",
       "      <td>-2.422962</td>\n",
       "      <td>3.061587</td>\n",
       "      <td>-4.113572</td>\n",
       "      <td>-1.766689</td>\n",
       "      <td>-5.186684</td>\n",
       "      <td>0.864317</td>\n",
       "      <td>0.031454</td>\n",
       "      <td>-2.814473</td>\n",
       "    </tr>\n",
       "    <tr>\n",
       "      <th>V</th>\n",
       "      <td>-0.141409</td>\n",
       "      <td>0.791405</td>\n",
       "      <td>0.364104</td>\n",
       "      <td>-0.340925</td>\n",
       "      <td>4.038532</td>\n",
       "      <td>4.512734</td>\n",
       "      <td>0.222440</td>\n",
       "      <td>-1.273314</td>\n",
       "      <td>3.136140</td>\n",
       "      <td>-2.356736</td>\n",
       "      <td>...</td>\n",
       "      <td>-2.458966</td>\n",
       "      <td>-1.938508</td>\n",
       "      <td>1.166751</td>\n",
       "      <td>1.758441</td>\n",
       "      <td>-1.653280</td>\n",
       "      <td>3.689169</td>\n",
       "      <td>-2.153039</td>\n",
       "      <td>4.008451</td>\n",
       "      <td>-4.249319</td>\n",
       "      <td>-1.304278</td>\n",
       "    </tr>\n",
       "    <tr>\n",
       "      <th>J</th>\n",
       "      <td>2.432050</td>\n",
       "      <td>-1.516874</td>\n",
       "      <td>2.479827</td>\n",
       "      <td>-1.474223</td>\n",
       "      <td>2.074752</td>\n",
       "      <td>-1.119690</td>\n",
       "      <td>-1.768394</td>\n",
       "      <td>1.625143</td>\n",
       "      <td>-2.045293</td>\n",
       "      <td>2.067908</td>\n",
       "      <td>...</td>\n",
       "      <td>-1.415421</td>\n",
       "      <td>1.919987</td>\n",
       "      <td>1.455372</td>\n",
       "      <td>-1.844676</td>\n",
       "      <td>-3.697474</td>\n",
       "      <td>3.965723</td>\n",
       "      <td>2.242249</td>\n",
       "      <td>-1.964271</td>\n",
       "      <td>1.263433</td>\n",
       "      <td>1.816207</td>\n",
       "    </tr>\n",
       "  </tbody>\n",
       "</table>\n",
       "<p>5 rows × 25 columns</p>\n",
       "</div>"
      ],
      "text/plain": [
       "         0         1         2         3         4         5         6   \\\n",
       "N -2.011606 -2.502116 -0.211493  3.402747 -0.626191 -0.489525  2.146285   \n",
       "O  3.429666  1.042983 -0.467640 -0.811732  1.996042  3.908663 -2.994953   \n",
       "P  3.860654  3.069140 -4.729945 -0.156819 -0.320247  0.538922 -2.132956   \n",
       "V -0.141409  0.791405  0.364104 -0.340925  4.038532  4.512734  0.222440   \n",
       "J  2.432050 -1.516874  2.479827 -1.474223  2.074752 -1.119690 -1.768394   \n",
       "\n",
       "         7         8         9   ...        15        16        17        18  \\\n",
       "N  0.753448 -3.107705  0.700621  ... -1.667954  2.424764  1.998730  1.956810   \n",
       "O -3.633188  2.557302 -5.214131  ... -0.138561 -1.430546  3.990683  0.153000   \n",
       "P -0.877924  0.125836  1.435138  ... -0.099913 -3.309171 -2.422962  3.061587   \n",
       "V -1.273314  3.136140 -2.356736  ... -2.458966 -1.938508  1.166751  1.758441   \n",
       "J  1.625143 -2.045293  2.067908  ... -1.415421  1.919987  1.455372 -1.844676   \n",
       "\n",
       "         19        20        21        22        23        24  \n",
       "N  1.723092 -3.418121  1.555783 -0.813960 -1.671171 -2.873601  \n",
       "O -1.709273  4.670515 -1.824152  0.147551 -2.928664  0.328893  \n",
       "P -4.113572 -1.766689 -5.186684  0.864317  0.031454 -2.814473  \n",
       "V -1.653280  3.689169 -2.153039  4.008451 -4.249319 -1.304278  \n",
       "J -3.697474  3.965723  2.242249 -1.964271  1.263433  1.816207  \n",
       "\n",
       "[5 rows x 25 columns]"
      ]
     },
     "execution_count": 81,
     "metadata": {},
     "output_type": "execute_result"
    }
   ],
   "source": [
    "weights = cbow.get_weights()[0]\n",
    "weights = weights[1:]\n",
    "print(weights.shape)\n",
    "\n",
    "pd.DataFrame(weights, index=list(ids2words.values())[:]).head()"
   ]
  },
  {
   "cell_type": "code",
   "execution_count": 84,
   "metadata": {
    "scrolled": false
   },
   "outputs": [
    {
     "name": "stdout",
     "output_type": "stream",
     "text": [
      "(25, 25)\n"
     ]
    },
    {
     "data": {
      "text/html": [
       "<div>\n",
       "<style scoped>\n",
       "    .dataframe tbody tr th:only-of-type {\n",
       "        vertical-align: middle;\n",
       "    }\n",
       "\n",
       "    .dataframe tbody tr th {\n",
       "        vertical-align: top;\n",
       "    }\n",
       "\n",
       "    .dataframe thead th {\n",
       "        text-align: right;\n",
       "    }\n",
       "</style>\n",
       "<table border=\"1\" class=\"dataframe\">\n",
       "  <thead>\n",
       "    <tr style=\"text-align: right;\">\n",
       "      <th></th>\n",
       "      <th>0</th>\n",
       "      <th>1</th>\n",
       "      <th>2</th>\n",
       "      <th>3</th>\n",
       "      <th>4</th>\n",
       "      <th>5</th>\n",
       "      <th>6</th>\n",
       "      <th>7</th>\n",
       "      <th>8</th>\n",
       "      <th>9</th>\n",
       "      <th>...</th>\n",
       "      <th>15</th>\n",
       "      <th>16</th>\n",
       "      <th>17</th>\n",
       "      <th>18</th>\n",
       "      <th>19</th>\n",
       "      <th>20</th>\n",
       "      <th>21</th>\n",
       "      <th>22</th>\n",
       "      <th>23</th>\n",
       "      <th>24</th>\n",
       "    </tr>\n",
       "  </thead>\n",
       "  <tbody>\n",
       "    <tr>\n",
       "      <th>1</th>\n",
       "      <td>-2.011606</td>\n",
       "      <td>-2.502116</td>\n",
       "      <td>-0.211493</td>\n",
       "      <td>3.402747</td>\n",
       "      <td>-0.626191</td>\n",
       "      <td>-0.489525</td>\n",
       "      <td>2.146285</td>\n",
       "      <td>0.753448</td>\n",
       "      <td>-3.107705</td>\n",
       "      <td>0.700621</td>\n",
       "      <td>...</td>\n",
       "      <td>-1.667954</td>\n",
       "      <td>2.424764</td>\n",
       "      <td>1.998730</td>\n",
       "      <td>1.956810</td>\n",
       "      <td>1.723092</td>\n",
       "      <td>-3.418121</td>\n",
       "      <td>1.555783</td>\n",
       "      <td>-0.813960</td>\n",
       "      <td>-1.671171</td>\n",
       "      <td>-2.873601</td>\n",
       "    </tr>\n",
       "    <tr>\n",
       "      <th>2</th>\n",
       "      <td>3.429666</td>\n",
       "      <td>1.042983</td>\n",
       "      <td>-0.467640</td>\n",
       "      <td>-0.811732</td>\n",
       "      <td>1.996042</td>\n",
       "      <td>3.908663</td>\n",
       "      <td>-2.994953</td>\n",
       "      <td>-3.633188</td>\n",
       "      <td>2.557302</td>\n",
       "      <td>-5.214131</td>\n",
       "      <td>...</td>\n",
       "      <td>-0.138561</td>\n",
       "      <td>-1.430546</td>\n",
       "      <td>3.990683</td>\n",
       "      <td>0.153000</td>\n",
       "      <td>-1.709273</td>\n",
       "      <td>4.670515</td>\n",
       "      <td>-1.824152</td>\n",
       "      <td>0.147551</td>\n",
       "      <td>-2.928664</td>\n",
       "      <td>0.328893</td>\n",
       "    </tr>\n",
       "    <tr>\n",
       "      <th>3</th>\n",
       "      <td>3.860654</td>\n",
       "      <td>3.069140</td>\n",
       "      <td>-4.729945</td>\n",
       "      <td>-0.156819</td>\n",
       "      <td>-0.320247</td>\n",
       "      <td>0.538922</td>\n",
       "      <td>-2.132956</td>\n",
       "      <td>-0.877924</td>\n",
       "      <td>0.125836</td>\n",
       "      <td>1.435138</td>\n",
       "      <td>...</td>\n",
       "      <td>-0.099913</td>\n",
       "      <td>-3.309171</td>\n",
       "      <td>-2.422962</td>\n",
       "      <td>3.061587</td>\n",
       "      <td>-4.113572</td>\n",
       "      <td>-1.766689</td>\n",
       "      <td>-5.186684</td>\n",
       "      <td>0.864317</td>\n",
       "      <td>0.031454</td>\n",
       "      <td>-2.814473</td>\n",
       "    </tr>\n",
       "    <tr>\n",
       "      <th>4</th>\n",
       "      <td>-0.141409</td>\n",
       "      <td>0.791405</td>\n",
       "      <td>0.364104</td>\n",
       "      <td>-0.340925</td>\n",
       "      <td>4.038532</td>\n",
       "      <td>4.512734</td>\n",
       "      <td>0.222440</td>\n",
       "      <td>-1.273314</td>\n",
       "      <td>3.136140</td>\n",
       "      <td>-2.356736</td>\n",
       "      <td>...</td>\n",
       "      <td>-2.458966</td>\n",
       "      <td>-1.938508</td>\n",
       "      <td>1.166751</td>\n",
       "      <td>1.758441</td>\n",
       "      <td>-1.653280</td>\n",
       "      <td>3.689169</td>\n",
       "      <td>-2.153039</td>\n",
       "      <td>4.008451</td>\n",
       "      <td>-4.249319</td>\n",
       "      <td>-1.304278</td>\n",
       "    </tr>\n",
       "    <tr>\n",
       "      <th>5</th>\n",
       "      <td>2.432050</td>\n",
       "      <td>-1.516874</td>\n",
       "      <td>2.479827</td>\n",
       "      <td>-1.474223</td>\n",
       "      <td>2.074752</td>\n",
       "      <td>-1.119690</td>\n",
       "      <td>-1.768394</td>\n",
       "      <td>1.625143</td>\n",
       "      <td>-2.045293</td>\n",
       "      <td>2.067908</td>\n",
       "      <td>...</td>\n",
       "      <td>-1.415421</td>\n",
       "      <td>1.919987</td>\n",
       "      <td>1.455372</td>\n",
       "      <td>-1.844676</td>\n",
       "      <td>-3.697474</td>\n",
       "      <td>3.965723</td>\n",
       "      <td>2.242249</td>\n",
       "      <td>-1.964271</td>\n",
       "      <td>1.263433</td>\n",
       "      <td>1.816207</td>\n",
       "    </tr>\n",
       "  </tbody>\n",
       "</table>\n",
       "<p>5 rows × 25 columns</p>\n",
       "</div>"
      ],
      "text/plain": [
       "         0         1         2         3         4         5         6   \\\n",
       "1 -2.011606 -2.502116 -0.211493  3.402747 -0.626191 -0.489525  2.146285   \n",
       "2  3.429666  1.042983 -0.467640 -0.811732  1.996042  3.908663 -2.994953   \n",
       "3  3.860654  3.069140 -4.729945 -0.156819 -0.320247  0.538922 -2.132956   \n",
       "4 -0.141409  0.791405  0.364104 -0.340925  4.038532  4.512734  0.222440   \n",
       "5  2.432050 -1.516874  2.479827 -1.474223  2.074752 -1.119690 -1.768394   \n",
       "\n",
       "         7         8         9   ...        15        16        17        18  \\\n",
       "1  0.753448 -3.107705  0.700621  ... -1.667954  2.424764  1.998730  1.956810   \n",
       "2 -3.633188  2.557302 -5.214131  ... -0.138561 -1.430546  3.990683  0.153000   \n",
       "3 -0.877924  0.125836  1.435138  ... -0.099913 -3.309171 -2.422962  3.061587   \n",
       "4 -1.273314  3.136140 -2.356736  ... -2.458966 -1.938508  1.166751  1.758441   \n",
       "5  1.625143 -2.045293  2.067908  ... -1.415421  1.919987  1.455372 -1.844676   \n",
       "\n",
       "         19        20        21        22        23        24  \n",
       "1  1.723092 -3.418121  1.555783 -0.813960 -1.671171 -2.873601  \n",
       "2 -1.709273  4.670515 -1.824152  0.147551 -2.928664  0.328893  \n",
       "3 -4.113572 -1.766689 -5.186684  0.864317  0.031454 -2.814473  \n",
       "4 -1.653280  3.689169 -2.153039  4.008451 -4.249319 -1.304278  \n",
       "5 -3.697474  3.965723  2.242249 -1.964271  1.263433  1.816207  \n",
       "\n",
       "[5 rows x 25 columns]"
      ]
     },
     "execution_count": 84,
     "metadata": {},
     "output_type": "execute_result"
    }
   ],
   "source": [
    "from sklearn.metrics.pairwise import euclidean_distances\n",
    "\n",
    "weights = cbow.get_weights()[0]\n",
    "weights = weights[1:]\n",
    "print(weights.shape)\n",
    "\n",
    "pd.DataFrame(weights, index=range(1,26)).head()\n",
    "\n"
   ]
  },
  {
   "cell_type": "code",
   "execution_count": 85,
   "metadata": {
    "scrolled": false
   },
   "outputs": [
    {
     "name": "stdout",
     "output_type": "stream",
     "text": [
      "(25, 25)\n"
     ]
    },
    {
     "data": {
      "text/plain": [
       "{'A': ['B', 'K', 'PAD', 'C', 'Q'],\n",
       " 'B': ['A', 'K', 'PAD', 'C', 'Q'],\n",
       " 'C': ['PAD', 'K', 'F', 'Q', 'S'],\n",
       " 'D': ['K', 'E', 'PAD', 'C', 'I'],\n",
       " 'E': ['D', 'K', 'PAD', 'I', 'Q'],\n",
       " 'F': ['C', 'PAD', 'K', 'Q', 'S'],\n",
       " 'G': ['C', 'K', 'PAD', 'L', 'X'],\n",
       " 'PAD': ['K', 'C', 'S', 'Q', 'F']}"
      ]
     },
     "execution_count": 85,
     "metadata": {},
     "output_type": "execute_result"
    }
   ],
   "source": [
    "from sklearn.metrics.pairwise import euclidean_distances\n",
    "\n",
    "# compute pairwise distance matrix\n",
    "distance_matrix = euclidean_distances(weights)\n",
    "print(distance_matrix.shape)\n",
    "\n",
    "# view contextually similar words\n",
    "similar_words = {search_term: [ids2words[idx] for idx in distance_matrix[words2id[search_term]-1].argsort()[1:6]+1] \n",
    "                   for search_term in ['A', 'B', 'C', 'D', 'E', 'F', 'G','PAD']}\n",
    "\n",
    "similar_words\n"
   ]
  },
  {
   "cell_type": "code",
   "execution_count": 86,
   "metadata": {},
   "outputs": [],
   "source": [
    "idLabels = ['BLANK']\n",
    "for i in ids2words:\n",
    "    if i != 0:\n",
    "        idLabels.append(ids2words[i])"
   ]
  },
  {
   "cell_type": "code",
   "execution_count": 87,
   "metadata": {},
   "outputs": [
    {
     "name": "stdout",
     "output_type": "stream",
     "text": [
      "{1: 'N', 2: 'O', 3: 'P', 4: 'V', 5: 'J', 6: 'X', 7: 'D', 8: 'G', 9: 'W', 10: 'S', 11: 'R', 12: 'T', 13: 'I', 14: 'B', 15: 'C', 16: 'F', 17: 'K', 18: 'L', 19: 'M', 20: 'A', 21: 'E', 22: 'H', 23: 'U', 24: 'Q', 25: 'PAD'}\n"
     ]
    },
    {
     "data": {
      "image/png": "[encoded data removed]",
      "text/plain": [
       "<Figure size 2880x1440 with 1 Axes>"
      ]
     },
     "metadata": {
      "needs_background": "light"
     },
     "output_type": "display_data"
    }
   ],
   "source": [
    "# Dendograms\n",
    "\n",
    "import scipy.spatial.distance as ssd\n",
    "import scipy.cluster.hierarchy as hac\n",
    "import matplotlib.pyplot as plt\n",
    "#from geopy import distance\n",
    "# convert the redundant n*n square matrix form into a condensed nC2 array\n",
    "distArray = ssd.squareform(distance_matrix)\n",
    "linked = hac.linkage(distArray, 'single')\n",
    "print(ids2words)\n",
    "\n",
    "plt.figure(figsize=(40, 20))\n",
    "hac.dendrogram(linked,\n",
    "            labels = idLabels,\n",
    "            orientation = \"right\",\n",
    "            distance_sort='average',\n",
    "            show_leaf_counts=True)\n",
    "plt.show()"
   ]
  },
  {
   "cell_type": "code",
   "execution_count": 42,
   "metadata": {},
   "outputs": [
    {
     "data": {
      "image/png": "[encoded data removed]",
      "text/plain": [
       "<Figure size 432x288 with 2 Axes>"
      ]
     },
     "metadata": {
      "needs_background": "light"
     },
     "output_type": "display_data"
    }
   ],
   "source": [
    "# Distance Matrix\n",
    "N = len(distance_matrix)\n",
    "plt.pcolormesh(distance_matrix)\n",
    "plt.colorbar()\n",
    "plt.xlim([0,N])\n",
    "plt.ylim([0,N])\n",
    "plt.show()"
   ]
  },
  {
   "cell_type": "code",
   "execution_count": 88,
   "metadata": {
    "scrolled": false
   },
   "outputs": [
    {
     "name": "stdout",
     "output_type": "stream",
     "text": [
      "3\n",
      "[25, 4, 25]\n",
      "([[4, 25], [25, 4], [4, 22], [4, 25], [25, 12], [25, 4], [25, 19], [4, 18]], [1, 1, 0, 1, 0, 1, 0, 0])\n",
      "10000\n",
      "(N (1), O (2)) -> 1\n",
      "(V (4), PAD (25)) -> 1\n",
      "(V (4), E (21)) -> 0\n",
      "(P (3), L (18)) -> 0\n",
      "(N (1), L (18)) -> 0\n",
      "(O (2), I (13)) -> 0\n",
      "(O (2), N (1)) -> 1\n",
      "(PAD (25), R (11)) -> 0\n",
      "(O (2), P (3)) -> 1\n",
      "(O (2), D (7)) -> 0\n"
     ]
    }
   ],
   "source": [
    "from keras.preprocessing.sequence import skipgrams\n",
    "import random\n",
    "def pad(w):\n",
    "    newW = [25] + w + [25]\n",
    "    return newW\n",
    "# generate skip-grams\n",
    "skip_grams = []\n",
    "context_length = window_size*2\n",
    "for keys in wids:\n",
    "    wid = wids[keys]\n",
    "    wid = pad(wid)\n",
    "    skip_grams.append(skipgrams(wid, vocabulary_size=vocab_size, window_size=1))\n",
    "    if keys == 2:\n",
    "        print(len(skip_grams))\n",
    "        print(wid)\n",
    "        print(skip_grams[2])\n",
    "    \n",
    "print(len(skip_grams))\n",
    "\n",
    "# view sample skip-grams\n",
    "pairs, labels = skip_grams[0][0], skip_grams[0][1]\n",
    "for i in range(10):\n",
    "    print(\"({:s} ({:d}), {:s} ({:d})) -> {:d}\".format(\n",
    "          ids2words[pairs[i][0]], pairs[i][0], \n",
    "          ids2words[pairs[i][1]], pairs[i][1], \n",
    "          labels[i]))\n"
   ]
  },
  {
   "cell_type": "code",
   "execution_count": 89,
   "metadata": {
    "scrolled": true
   },
   "outputs": [
    {
     "name": "stdout",
     "output_type": "stream",
     "text": [
      "__________________________________________________________________________________________________\n",
      "Layer (type)                    Output Shape         Param #     Connected to                     \n",
      "==================================================================================================\n",
      "input_3 (InputLayer)            (None, 1)            0                                            \n",
      "__________________________________________________________________________________________________\n",
      "input_4 (InputLayer)            (None, 1)            0                                            \n",
      "__________________________________________________________________________________________________\n",
      "embedding (Embedding)           (None, 1, 25)        650         input_3[0][0]                    \n",
      "                                                                 input_4[0][0]                    \n",
      "__________________________________________________________________________________________________\n",
      "reshape_4 (Reshape)             (None, 25, 1)        0           embedding[0][0]                  \n",
      "__________________________________________________________________________________________________\n",
      "reshape_5 (Reshape)             (None, 25, 1)        0           embedding[1][0]                  \n",
      "__________________________________________________________________________________________________\n",
      "dot (Dot)                       (None, 1, 1)         0           reshape_4[0][0]                  \n",
      "                                                                 reshape_5[0][0]                  \n",
      "__________________________________________________________________________________________________\n",
      "reshape_6 (Reshape)             (None, 1)            0           dot[0][0]                        \n",
      "__________________________________________________________________________________________________\n",
      "dense_5 (Dense)                 (None, 1)            2           reshape_6[0][0]                  \n",
      "==================================================================================================\n",
      "Total params: 652\n",
      "Trainable params: 652\n",
      "Non-trainable params: 0\n",
      "__________________________________________________________________________________________________\n",
      "None\n"
     ]
    }
   ],
   "source": [
    "from keras.layers import dot\n",
    "from keras.models import Model\n",
    "from keras.layers.core import Dense, Reshape\n",
    "from keras.layers.embeddings import Embedding\n",
    "from keras.layers import Input\n",
    "\n",
    "\n",
    "# build skip-gram architecture\n",
    "\n",
    "input_target = Input((1,))\n",
    "input_context = Input((1,))\n",
    "\n",
    "embedding = Embedding(vocab_size, embed_size, input_length=1, name='embedding')\n",
    "\n",
    "word_embeddings = embedding(input_target)\n",
    "word_embeddings = Reshape((embed_size, 1))(word_embeddings)\n",
    "\n",
    "context_embeddings = embedding(input_context)\n",
    "context_embeddings = Reshape((embed_size, 1))(context_embeddings)\n",
    "\n",
    "\n",
    "# now perform the dot product operation  \n",
    "dot_product = dot([word_embeddings, context_embeddings], axes=1, name = 'dot')\n",
    "dot_product = Reshape((1,))(dot_product)\n",
    "\n",
    "\n",
    "# add the sigmoid output layer\n",
    "output = Dense(1, kernel_initializer=\"glorot_uniform\", activation='sigmoid')(dot_product)\n",
    "\n",
    "\n",
    "model = Model(inputs=[input_target, input_context], outputs=output)\n",
    "model.compile(loss='mean_squared_error', optimizer='rmsprop')\n",
    "\n",
    "# view model summary\n",
    "print(model.summary())"
   ]
  },
  {
   "cell_type": "code",
   "execution_count": 90,
   "metadata": {},
   "outputs": [
    {
     "name": "stdout",
     "output_type": "stream",
     "text": [
      "Processed 0 (skip_first, skip_second, relevance) pairs\n",
      "Epoch: 1 Loss: 1625.1246781293303\n",
      "Processed 0 (skip_first, skip_second, relevance) pairs\n",
      "Epoch: 2 Loss: 1407.709080205299\n",
      "Processed 0 (skip_first, skip_second, relevance) pairs\n",
      "Epoch: 3 Loss: 1305.782051728107\n",
      "Processed 0 (skip_first, skip_second, relevance) pairs\n",
      "Epoch: 4 Loss: 1257.8989379163831\n",
      "Processed 0 (skip_first, skip_second, relevance) pairs\n",
      "Epoch: 5 Loss: 1250.4200593940914\n"
     ]
    }
   ],
   "source": [
    "for epoch in range(1, 6):\n",
    "    loss = 0\n",
    "    for i, elem in enumerate(skip_grams):\n",
    "        pair_first_elem = np.array(list(zip(*elem[0]))[0], dtype='int32')\n",
    "        pair_second_elem = np.array(list(zip(*elem[0]))[1], dtype='int32')\n",
    "        labels = np.array(elem[1], dtype='int32')\n",
    "        X = [pair_first_elem, pair_second_elem]\n",
    "        Y = labels\n",
    "        if i % 10000 == 0:\n",
    "            print('Processed {} (skip_first, skip_second, relevance) pairs'.format(i))\n",
    "        loss += model.train_on_batch(X,Y)  \n",
    "\n",
    "    print('Epoch:', epoch, 'Loss:', loss)"
   ]
  },
  {
   "cell_type": "code",
   "execution_count": 92,
   "metadata": {},
   "outputs": [
    {
     "name": "stdout",
     "output_type": "stream",
     "text": [
      "(25, 25)\n"
     ]
    },
    {
     "data": {
      "text/html": [
       "<div>\n",
       "<style scoped>\n",
       "    .dataframe tbody tr th:only-of-type {\n",
       "        vertical-align: middle;\n",
       "    }\n",
       "\n",
       "    .dataframe tbody tr th {\n",
       "        vertical-align: top;\n",
       "    }\n",
       "\n",
       "    .dataframe thead th {\n",
       "        text-align: right;\n",
       "    }\n",
       "</style>\n",
       "<table border=\"1\" class=\"dataframe\">\n",
       "  <thead>\n",
       "    <tr style=\"text-align: right;\">\n",
       "      <th></th>\n",
       "      <th>0</th>\n",
       "      <th>1</th>\n",
       "      <th>2</th>\n",
       "      <th>3</th>\n",
       "      <th>4</th>\n",
       "      <th>5</th>\n",
       "      <th>6</th>\n",
       "      <th>7</th>\n",
       "      <th>8</th>\n",
       "      <th>9</th>\n",
       "      <th>...</th>\n",
       "      <th>15</th>\n",
       "      <th>16</th>\n",
       "      <th>17</th>\n",
       "      <th>18</th>\n",
       "      <th>19</th>\n",
       "      <th>20</th>\n",
       "      <th>21</th>\n",
       "      <th>22</th>\n",
       "      <th>23</th>\n",
       "      <th>24</th>\n",
       "    </tr>\n",
       "  </thead>\n",
       "  <tbody>\n",
       "    <tr>\n",
       "      <th>N</th>\n",
       "      <td>-0.034072</td>\n",
       "      <td>-0.265541</td>\n",
       "      <td>0.978549</td>\n",
       "      <td>0.386196</td>\n",
       "      <td>-0.692497</td>\n",
       "      <td>1.093630</td>\n",
       "      <td>-0.780365</td>\n",
       "      <td>0.846198</td>\n",
       "      <td>0.471443</td>\n",
       "      <td>-0.126294</td>\n",
       "      <td>...</td>\n",
       "      <td>-0.305635</td>\n",
       "      <td>-0.327868</td>\n",
       "      <td>0.383422</td>\n",
       "      <td>0.023494</td>\n",
       "      <td>1.450638</td>\n",
       "      <td>0.667620</td>\n",
       "      <td>0.003107</td>\n",
       "      <td>0.145317</td>\n",
       "      <td>-0.186487</td>\n",
       "      <td>-0.613123</td>\n",
       "    </tr>\n",
       "    <tr>\n",
       "      <th>O</th>\n",
       "      <td>-0.290259</td>\n",
       "      <td>0.405315</td>\n",
       "      <td>-0.272603</td>\n",
       "      <td>-0.516674</td>\n",
       "      <td>0.938201</td>\n",
       "      <td>1.408438</td>\n",
       "      <td>-0.692127</td>\n",
       "      <td>-0.951149</td>\n",
       "      <td>-0.035670</td>\n",
       "      <td>0.804146</td>\n",
       "      <td>...</td>\n",
       "      <td>-1.481694</td>\n",
       "      <td>0.602494</td>\n",
       "      <td>-0.460175</td>\n",
       "      <td>-0.477690</td>\n",
       "      <td>0.063821</td>\n",
       "      <td>0.514609</td>\n",
       "      <td>0.131984</td>\n",
       "      <td>0.555982</td>\n",
       "      <td>0.482097</td>\n",
       "      <td>-0.182965</td>\n",
       "    </tr>\n",
       "    <tr>\n",
       "      <th>P</th>\n",
       "      <td>2.234467</td>\n",
       "      <td>-0.004119</td>\n",
       "      <td>0.537887</td>\n",
       "      <td>2.101695</td>\n",
       "      <td>-0.124905</td>\n",
       "      <td>-0.846606</td>\n",
       "      <td>-0.070609</td>\n",
       "      <td>0.185699</td>\n",
       "      <td>0.500014</td>\n",
       "      <td>0.838465</td>\n",
       "      <td>...</td>\n",
       "      <td>-0.572820</td>\n",
       "      <td>0.959395</td>\n",
       "      <td>-1.603631</td>\n",
       "      <td>0.792382</td>\n",
       "      <td>-0.841414</td>\n",
       "      <td>-0.936310</td>\n",
       "      <td>1.308935</td>\n",
       "      <td>-0.092034</td>\n",
       "      <td>0.034751</td>\n",
       "      <td>1.970303</td>\n",
       "    </tr>\n",
       "    <tr>\n",
       "      <th>V</th>\n",
       "      <td>0.858510</td>\n",
       "      <td>-0.566189</td>\n",
       "      <td>0.307997</td>\n",
       "      <td>2.403116</td>\n",
       "      <td>-0.703975</td>\n",
       "      <td>-2.092377</td>\n",
       "      <td>-0.776258</td>\n",
       "      <td>-2.884827</td>\n",
       "      <td>-0.776096</td>\n",
       "      <td>0.908484</td>\n",
       "      <td>...</td>\n",
       "      <td>0.289940</td>\n",
       "      <td>2.730829</td>\n",
       "      <td>-2.174455</td>\n",
       "      <td>2.312230</td>\n",
       "      <td>-0.240428</td>\n",
       "      <td>-1.236132</td>\n",
       "      <td>1.997493</td>\n",
       "      <td>-1.050566</td>\n",
       "      <td>0.680386</td>\n",
       "      <td>0.660922</td>\n",
       "    </tr>\n",
       "    <tr>\n",
       "      <th>J</th>\n",
       "      <td>-0.919232</td>\n",
       "      <td>0.165996</td>\n",
       "      <td>-1.525996</td>\n",
       "      <td>1.196210</td>\n",
       "      <td>0.232139</td>\n",
       "      <td>-0.408266</td>\n",
       "      <td>1.102740</td>\n",
       "      <td>0.043884</td>\n",
       "      <td>1.835670</td>\n",
       "      <td>-0.503702</td>\n",
       "      <td>...</td>\n",
       "      <td>-0.747950</td>\n",
       "      <td>0.680041</td>\n",
       "      <td>1.436488</td>\n",
       "      <td>-0.925162</td>\n",
       "      <td>-0.014421</td>\n",
       "      <td>0.301269</td>\n",
       "      <td>-1.194635</td>\n",
       "      <td>0.099874</td>\n",
       "      <td>-0.799480</td>\n",
       "      <td>1.059367</td>\n",
       "    </tr>\n",
       "  </tbody>\n",
       "</table>\n",
       "<p>5 rows × 25 columns</p>\n",
       "</div>"
      ],
      "text/plain": [
       "         0         1         2         3         4         5         6   \\\n",
       "N -0.034072 -0.265541  0.978549  0.386196 -0.692497  1.093630 -0.780365   \n",
       "O -0.290259  0.405315 -0.272603 -0.516674  0.938201  1.408438 -0.692127   \n",
       "P  2.234467 -0.004119  0.537887  2.101695 -0.124905 -0.846606 -0.070609   \n",
       "V  0.858510 -0.566189  0.307997  2.403116 -0.703975 -2.092377 -0.776258   \n",
       "J -0.919232  0.165996 -1.525996  1.196210  0.232139 -0.408266  1.102740   \n",
       "\n",
       "         7         8         9   ...        15        16        17        18  \\\n",
       "N  0.846198  0.471443 -0.126294  ... -0.305635 -0.327868  0.383422  0.023494   \n",
       "O -0.951149 -0.035670  0.804146  ... -1.481694  0.602494 -0.460175 -0.477690   \n",
       "P  0.185699  0.500014  0.838465  ... -0.572820  0.959395 -1.603631  0.792382   \n",
       "V -2.884827 -0.776096  0.908484  ...  0.289940  2.730829 -2.174455  2.312230   \n",
       "J  0.043884  1.835670 -0.503702  ... -0.747950  0.680041  1.436488 -0.925162   \n",
       "\n",
       "         19        20        21        22        23        24  \n",
       "N  1.450638  0.667620  0.003107  0.145317 -0.186487 -0.613123  \n",
       "O  0.063821  0.514609  0.131984  0.555982  0.482097 -0.182965  \n",
       "P -0.841414 -0.936310  1.308935 -0.092034  0.034751  1.970303  \n",
       "V -0.240428 -1.236132  1.997493 -1.050566  0.680386  0.660922  \n",
       "J -0.014421  0.301269 -1.194635  0.099874 -0.799480  1.059367  \n",
       "\n",
       "[5 rows x 25 columns]"
      ]
     },
     "execution_count": 92,
     "metadata": {},
     "output_type": "execute_result"
    }
   ],
   "source": [
    "# merge_layer = model.layers[0]\n",
    "# word_model = merge_layer.layers[0]\n",
    "# word_embed_layer = word_model.layers[0]\n",
    "weights = model.get_weights()[0][1:]\n",
    "\n",
    "print(weights.shape)\n",
    "pd.DataFrame(weights, index=ids2words.values()).head()"
   ]
  },
  {
   "cell_type": "code",
   "execution_count": 93,
   "metadata": {},
   "outputs": [
    {
     "name": "stdout",
     "output_type": "stream",
     "text": [
      "(25, 25)\n"
     ]
    },
    {
     "data": {
      "text/plain": [
       "{'A': ['B', 'C', 'PAD', 'N', 'M'],\n",
       " 'B': ['A', 'C', 'PAD', 'N', 'M'],\n",
       " 'C': ['A', 'B', 'PAD', 'N', 'M'],\n",
       " 'D': ['PAD', 'M', 'N', 'L', 'K'],\n",
       " 'E': ['F', 'PAD', 'M', 'N', 'L'],\n",
       " 'F': ['E', 'PAD', 'N', 'M', 'L'],\n",
       " 'G': ['D', 'PAD', 'J', 'M', 'N'],\n",
       " 'PAD': ['M', 'N', 'K', 'L', 'O']}"
      ]
     },
     "execution_count": 93,
     "metadata": {},
     "output_type": "execute_result"
    }
   ],
   "source": [
    "# compute pairwise distance matrix\n",
    "from sklearn.metrics.pairwise import euclidean_distances\n",
    "\n",
    "distance_matrix = euclidean_distances(weights)\n",
    "print(distance_matrix.shape)\n",
    "\n",
    "# view contextually similar words\n",
    "similar_words = {search_term: [ids2words[idx] for idx in distance_matrix[words2id[search_term]-1].argsort()[1:6]+1] \n",
    "                   for search_term in ['A', 'B', 'C', 'D', 'E', 'F', 'G','PAD']}\n",
    "\n",
    "similar_words"
   ]
  },
  {
   "cell_type": "code",
   "execution_count": null,
   "metadata": {},
   "outputs": [],
   "source": [
    "# Dendograms show that it can find pairs really well. Which make senses haha (window size = 1)"
   ]
  },
  {
   "cell_type": "code",
   "execution_count": 94,
   "metadata": {},
   "outputs": [
    {
     "data": {
      "image/png": "[encoded data removed]",
      "text/plain": [
       "<Figure size 2880x1440 with 1 Axes>"
      ]
     },
     "metadata": {
      "needs_background": "light"
     },
     "output_type": "display_data"
    }
   ],
   "source": [
    "# Dendograms\n",
    "import scipy.spatial.distance as ssd\n",
    "import scipy.cluster.hierarchy as hac\n",
    "import matplotlib.pyplot as plt\n",
    "#from geopy import distance\n",
    "# convert the redundant n*n square matrix form into a condensed nC2 array\n",
    "distArray = ssd.squareform(distance_matrix)\n",
    "linked = hac.linkage(distArray, 'single')\n",
    "plt.figure(figsize=(40, 20))\n",
    "hac.dendrogram(linked,\n",
    "               labels = idLabels,\n",
    "            distance_sort='average',\n",
    "            show_leaf_counts=True)\n",
    "plt.show()"
   ]
  },
  {
   "cell_type": "code",
   "execution_count": 25,
   "metadata": {},
   "outputs": [
    {
     "data": {
      "image/png": "[encoded data removed]",
      "text/plain": [
       "<Figure size 432x288 with 2 Axes>"
      ]
     },
     "metadata": {
      "needs_background": "light"
     },
     "output_type": "display_data"
    }
   ],
   "source": [
    "# Distance Matrix\n",
    "N = len(distance_matrix)\n",
    "plt.pcolormesh(distance_matrix)\n",
    "plt.colorbar()\n",
    "plt.xlim([0,N])\n",
    "plt.ylim([0,N])\n",
    "plt.show()"
   ]
  }
 ],
 "metadata": {
  "kernelspec": {
   "display_name": "Python 3",
   "language": "python",
   "name": "python3"
  },
  "language_info": {
   "codemirror_mode": {
    "name": "ipython",
    "version": 3
   },
   "file_extension": ".py",
   "mimetype": "text/x-python",
   "name": "python",
   "nbconvert_exporter": "python",
   "pygments_lexer": "ipython3",
   "version": "3.7.5"
  }
 },
 "nbformat": 4,
 "nbformat_minor": 2
}
