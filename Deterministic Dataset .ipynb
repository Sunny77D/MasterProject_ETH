{
 "cells": [
  {
   "cell_type": "code",
   "execution_count": 3,
   "metadata": {},
   "outputs": [],
   "source": [
    "import numpy as np\n",
    "import pandas as pd"
   ]
  },
  {
   "cell_type": "code",
   "execution_count": 11,
   "metadata": {},
   "outputs": [],
   "source": [
    "dictRules = {\n",
    "    0 : [0, 2, 3, 6],\n",
    "    1 : [1, 2, 3, 6],\n",
    "    2 : [2, 3, 6], \n",
    "    3 : [3, 6],\n",
    "    4 : [4, 5, 3, 6],\n",
    "    5 : [5, 3, 6],\n",
    "    6 : [6],\n",
    "    7 : [7, 8, 9, 23],\n",
    "    8 : [8, 9, 23],\n",
    "    9 : [9, 23],\n",
    "    10: [10, 9, 23],\n",
    "    11: [11, 14, 15, 21],\n",
    "    12: [12, 14, 15, 21],\n",
    "    13: [13, 14, 15, 21],\n",
    "    14: [14, 15, 21], \n",
    "    15: [15, 21],\n",
    "    16: [16, 17, 19], \n",
    "    17: [17, 19],\n",
    "    18: [18, 17, 19], \n",
    "    19: [19],\n",
    "    20: [20, 16, 17, 19], \n",
    "    21: [21]  \n",
    "}"
   ]
  },
  {
   "cell_type": "code",
   "execution_count": 6,
   "metadata": {},
   "outputs": [],
   "source": [
    "dictRules2 = {\n",
    "    'A' : ['A', 'C', 'D', 'G'],\n",
    "    'B' : ['B','C', 'D', 'G'],\n",
    "    'C' : ['C', 'D', 'G'], \n",
    "    'D' : ['D', 'G'],\n",
    "    'E' : ['E', 'F', 'D', 'G'],\n",
    "    'F' : ['F', 'D', 'G'],\n",
    "    'G' : ['G'],\n",
    "    'H' : ['H', 'I', 'J', 'X'],\n",
    "    'I' : ['I', 'J', 'X'],\n",
    "    'J' : ['J', 'X'],\n",
    "    'K': ['K', 'J', 'X'],\n",
    "    'L': ['L', 'O', 'P', 'V'],\n",
    "    'M': ['M', 'O', 'P', 'V'],\n",
    "    'N': ['N',  'O', 'P', 'V'],\n",
    "    'O': [ 'O', 'P', 'V'], \n",
    "    'P': ['P', 'V'],\n",
    "    'Q': ['Q', 'R', 'T'], \n",
    "    'R': ['R', 'T'],\n",
    "    'S': ['S', 'R', 'T'], \n",
    "    'T': ['T'],\n",
    "    'U': ['U', 'Q', 'R', 'T'], \n",
    "    'V': ['V']  ,\n",
    "    'W':['W','S', 'R', 'T'],\n",
    "    'X':['X']\n",
    "}"
   ]
  },
  {
   "cell_type": "code",
   "execution_count": 15,
   "metadata": {},
   "outputs": [
    {
     "name": "stdout",
     "output_type": "stream",
     "text": [
      "[[ 0  2  3  6]\n",
      " [ 1  2  3  6]\n",
      " [ 4  5  3  6]\n",
      " [10  9 10  9]\n",
      " [ 7  8  9 23]\n",
      " [11 14 15 21]\n",
      " [12 14 15 21]\n",
      " [13 14 15 21]\n",
      " [22 18 17 19]\n",
      " [20 16 17 19]]\n"
     ]
    }
   ],
   "source": [
    "# Deterministic Data Sets \n",
    "# Tree 1\n",
    "\n",
    "sets = np.array([[0, 2, 3, 6],\n",
    "[1, 2, 3, 6],\n",
    "[4, 5, 3, 6],\n",
    "[10, 9, 10, 9],\n",
    "[7, 8, 9, 23],\n",
    "[11, 14, 15, 21],\n",
    "[12, 14, 15, 21],\n",
    "[13, 14, 15, 21],\n",
    "[22, 18, 17, 19],\n",
    "[20, 16, 17, 19]])\n",
    "print(sets)\n",
    "    \n",
    "    \n",
    "    "
   ]
  },
  {
   "cell_type": "code",
   "execution_count": 19,
   "metadata": {},
   "outputs": [
    {
     "name": "stdout",
     "output_type": "stream",
     "text": [
      "[1 2 3 6]\n",
      "(400, 4)\n",
      "[4 5 3 6]\n",
      "(400, 4)\n",
      "[10  9 10  9]\n",
      "(400, 4)\n",
      "[ 7  8  9 23]\n",
      "(400, 4)\n",
      "[11 14 15 21]\n",
      "(400, 4)\n",
      "[12 14 15 21]\n",
      "(400, 4)\n",
      "[13 14 15 21]\n",
      "(400, 4)\n",
      "[22 18 17 19]\n",
      "(400, 4)\n",
      "[20 16 17 19]\n",
      "(400, 4)\n"
     ]
    }
   ],
   "source": [
    "dataset = np.vstack([sets[0]]*400)\n",
    "for i in range(1, len(sets)):\n",
    "    print(sets[i])\n",
    "    Y = np.vstack([sets[i]]*400)\n",
    "    print(Y.shape)\n",
    "    dataset = np.vstack((dataset,Y))\n",
    "    "
   ]
  },
  {
   "cell_type": "code",
   "execution_count": 21,
   "metadata": {},
   "outputs": [
    {
     "name": "stdout",
     "output_type": "stream",
     "text": [
      "(4000, 4)\n"
     ]
    }
   ],
   "source": [
    "print(dataset.shape)"
   ]
  },
  {
   "cell_type": "code",
   "execution_count": 7,
   "metadata": {},
   "outputs": [
    {
     "ename": "KeyError",
     "evalue": "41",
     "output_type": "error",
     "traceback": [
      "\u001b[1;31m---------------------------------------------------------------------------\u001b[0m",
      "\u001b[1;31mKeyError\u001b[0m                                  Traceback (most recent call last)",
      "\u001b[1;32m<ipython-input-7-190076cae6d7>\u001b[0m in \u001b[0;36m<module>\u001b[1;34m\u001b[0m\n\u001b[0;32m      4\u001b[0m \u001b[1;32mfor\u001b[0m \u001b[0mi\u001b[0m \u001b[1;32min\u001b[0m \u001b[0mrange\u001b[0m\u001b[1;33m(\u001b[0m\u001b[1;36m10000\u001b[0m\u001b[1;33m)\u001b[0m\u001b[1;33m:\u001b[0m\u001b[1;33m\u001b[0m\u001b[1;33m\u001b[0m\u001b[0m\n\u001b[0;32m      5\u001b[0m     \u001b[0mrandInt\u001b[0m \u001b[1;33m=\u001b[0m \u001b[0mrandom\u001b[0m\u001b[1;33m.\u001b[0m\u001b[0mrandint\u001b[0m\u001b[1;33m(\u001b[0m\u001b[1;36m0\u001b[0m\u001b[1;33m+\u001b[0m\u001b[1;36m41\u001b[0m\u001b[1;33m,\u001b[0m \u001b[1;36m25\u001b[0m\u001b[1;33m+\u001b[0m\u001b[1;36m41\u001b[0m\u001b[1;33m)\u001b[0m\u001b[1;33m\u001b[0m\u001b[1;33m\u001b[0m\u001b[0m\n\u001b[1;32m----> 6\u001b[1;33m     \u001b[0mdata\u001b[0m\u001b[1;33m[\u001b[0m\u001b[0mi\u001b[0m\u001b[1;33m]\u001b[0m \u001b[1;33m=\u001b[0m \u001b[0mdictRules2\u001b[0m\u001b[1;33m[\u001b[0m\u001b[0mrandInt\u001b[0m\u001b[1;33m]\u001b[0m\u001b[1;33m\u001b[0m\u001b[1;33m\u001b[0m\u001b[0m\n\u001b[0m\u001b[0;32m      7\u001b[0m \u001b[0mdDF\u001b[0m \u001b[1;33m=\u001b[0m \u001b[0mpd\u001b[0m\u001b[1;33m.\u001b[0m\u001b[0mDataFrame\u001b[0m\u001b[1;33m.\u001b[0m\u001b[0mfrom_dict\u001b[0m\u001b[1;33m(\u001b[0m\u001b[0mdata\u001b[0m\u001b[1;33m,\u001b[0m \u001b[0morient\u001b[0m\u001b[1;33m=\u001b[0m\u001b[1;34m'index'\u001b[0m\u001b[1;33m,\u001b[0m \u001b[0mcolumns\u001b[0m \u001b[1;33m=\u001b[0m \u001b[1;33m[\u001b[0m\u001b[1;34m'code1'\u001b[0m\u001b[1;33m,\u001b[0m \u001b[1;34m'code2'\u001b[0m\u001b[1;33m,\u001b[0m \u001b[1;34m'code3'\u001b[0m\u001b[1;33m,\u001b[0m \u001b[1;34m'code4'\u001b[0m\u001b[1;33m]\u001b[0m\u001b[1;33m)\u001b[0m\u001b[1;33m\u001b[0m\u001b[1;33m\u001b[0m\u001b[0m\n\u001b[0;32m      8\u001b[0m \u001b[0mprint\u001b[0m\u001b[1;33m(\u001b[0m\u001b[0mdDF\u001b[0m\u001b[1;33m)\u001b[0m\u001b[1;33m\u001b[0m\u001b[1;33m\u001b[0m\u001b[0m\n",
      "\u001b[1;31mKeyError\u001b[0m: 41"
     ]
    }
   ],
   "source": [
    "import random\n",
    "\n",
    "data = {}\n",
    "for i in range(10000):\n",
    "    randInt = random.randint(0, 25)\n",
    "    data[i] = dictRules2[randInt]\n",
    "dDF = pd.DataFrame.from_dict(data, orient='index', columns = ['code1', 'code2', 'code3', 'code4'])\n",
    "print(dDF)\n",
    "pd.DataFrame(dDF).to_csv('.\\\\testFile.csv')\n",
    "\n",
    "    "
   ]
  },
  {
   "cell_type": "code",
   "execution_count": 14,
   "metadata": {},
   "outputs": [
    {
     "name": "stdout",
     "output_type": "stream",
     "text": [
      "     code1 code2 code3 code4\n",
      "0        N     O     P     V\n",
      "1        J     X  None  None\n",
      "2        V  None  None  None\n",
      "3        X  None  None  None\n",
      "4        J     X  None  None\n",
      "...    ...   ...   ...   ...\n",
      "9995     P     V  None  None\n",
      "9996     I     J     X  None\n",
      "9997     O     P     V  None\n",
      "9998     U     Q     R     T\n",
      "9999     L     O     P     V\n",
      "\n",
      "[10000 rows x 4 columns]\n"
     ]
    }
   ],
   "source": [
    "# Creating Alphabet Data!\n",
    "import random\n",
    "\n",
    "data = {}\n",
    "for i in range(10000):\n",
    "    randInt = random.randint(0+65, 23+65)\n",
    "    randChr = str(chr(randInt))\n",
    "    data[i] = dictRules2[randChr]\n",
    "dDF = pd.DataFrame.from_dict(data, orient='index', columns = ['code1', 'code2', 'code3', 'code4'])\n",
    "print(dDF)\n",
    "pd.DataFrame(dDF).to_csv('.\\\\testFileAlpha.csv')\n"
   ]
  },
  {
   "cell_type": "code",
   "execution_count": 24,
   "metadata": {},
   "outputs": [
    {
     "name": "stdout",
     "output_type": "stream",
     "text": [
      "             code1         code2         code3         code4\n",
      "0           (7, 0)        (8, 1)        (9, 2)       (23, 3)\n",
      "1         (16, 12)      (17, 13)      (19, 14)          None\n",
      "2          (5, 29)       (3, 30)       (6, 31)          None\n",
      "3          (6, 48)          None          None          None\n",
      "4          (2, 60)       (3, 61)       (6, 62)          None\n",
      "...            ...           ...           ...           ...\n",
      "9995   (7, 153805)   (8, 153806)   (9, 153807)  (23, 153808)\n",
      "9996  (13, 153816)  (14, 153817)  (15, 153818)  (21, 153819)\n",
      "9997   (9, 153838)  (23, 153839)          None          None\n",
      "9998   (6, 153854)          None          None          None\n",
      "9999  (15, 153861)  (21, 153862)          None          None\n",
      "\n",
      "[10000 rows x 4 columns]\n"
     ]
    }
   ],
   "source": [
    "import time \n",
    "data = {}\n",
    "curTime = 0\n",
    "for i in range(10000):\n",
    "    randInt = random.randint(0, 21)\n",
    "    newArray = []\n",
    "    for code in dictRules[randInt]:\n",
    "        newArray.append((code, curTime))\n",
    "        curTime += 1\n",
    "    data[i] = newArray\n",
    "    curTime += random.randint(5, 20)\n",
    "dDF = pd.DataFrame.from_dict(data, orient='index', columns = ['code1', 'code2', 'code3', 'code4'])\n",
    "print(dDF)\n",
    "pd.DataFrame(dDF).to_csv('.\\\\timeAndCodeFile.csv')"
   ]
  }
 ],
 "metadata": {
  "kernelspec": {
   "display_name": "Python 3",
   "language": "python",
   "name": "python3"
  },
  "language_info": {
   "codemirror_mode": {
    "name": "ipython",
    "version": 3
   },
   "file_extension": ".py",
   "mimetype": "text/x-python",
   "name": "python",
   "nbconvert_exporter": "python",
   "pygments_lexer": "ipython3",
   "version": "3.7.5"
  }
 },
 "nbformat": 4,
 "nbformat_minor": 2
}
