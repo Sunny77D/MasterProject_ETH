{
 "cells": [
  {
   "cell_type": "code",
   "execution_count": 1,
   "metadata": {},
   "outputs": [],
   "source": [
    "import numpy as np\n",
    "import pandas as pd"
   ]
  },
  {
   "cell_type": "code",
   "execution_count": 2,
   "metadata": {},
   "outputs": [],
   "source": [
    "data  = np.genfromtxt('.\\\\testFileAlpha.csv')\n",
    "df=pd.read_csv('testFileAlpha.csv', sep=',',header=None)"
   ]
  },
  {
   "cell_type": "code",
   "execution_count": 4,
   "metadata": {},
   "outputs": [],
   "source": [
    "dictRules2 = {\n",
    "    'A' : ['A', 'C', 'D', 'G'],\n",
    "    'B' : ['B','C', 'D', 'G'],\n",
    "    'C' : ['C', 'D', 'G'], \n",
    "    'D' : ['D', 'G'],\n",
    "    'E' : ['E', 'F', 'D', 'G'],\n",
    "    'F' : ['F', 'D', 'G'],\n",
    "    'G' : ['G'],\n",
    "    'H' : ['H', 'I', 'J', 'X'],\n",
    "    'I' : ['I', 'J', 'X'],\n",
    "    'J' : ['J', 'X'],\n",
    "    'K': ['K', 'J', 'X'],\n",
    "    'L': ['L', 'O', 'P', 'V'],\n",
    "    'M': ['M', 'O', 'P', 'V'],\n",
    "    'N': ['N',  'O', 'P', 'V'],\n",
    "    'O': [ 'O', 'P', 'V'], \n",
    "    'P': ['P', 'V'],\n",
    "    'Q': ['Q', 'R', 'T'], \n",
    "    'R': ['R', 'T'],\n",
    "    'S': ['S', 'R', 'T'], \n",
    "    'T': ['T'],\n",
    "    'U': ['U', 'Q', 'R', 'T'], \n",
    "    'V': ['V']  ,\n",
    "    'W':['W','S', 'R', 'T'],\n",
    "    'X':['X']\n",
    "}"
   ]
  },
  {
   "cell_type": "code",
   "execution_count": 6,
   "metadata": {},
   "outputs": [
    {
     "name": "stdout",
     "output_type": "stream",
     "text": [
      "      ts0 ts1  ts2  ts3  ts4   ts5   ts6   ts7   ts8\n",
      "0       W   S    R    T  PAD     F     D     G  None\n",
      "1       W   T  PAD    S    R     T  None  None  None\n",
      "2       Q   R    T  PAD    Q     R     T  None  None\n",
      "3       U   Q    R    O    T   PAD     P     V  None\n",
      "4       K   J    X  PAD    T  None  None  None  None\n",
      "...    ..  ..  ...  ...  ...   ...   ...   ...   ...\n",
      "49995   E   F    D    G  PAD     E     F     D     G\n",
      "49996   O   R    T  PAD    P     V  None  None  None\n",
      "49997   W   G  PAD    S    R     T  None  None  None\n",
      "49998   E   F    D    G  PAD     M     O     P     V\n",
      "49999   C   P    V  PAD    D     G  None  None  None\n",
      "\n",
      "[50000 rows x 9 columns]\n"
     ]
    }
   ],
   "source": [
    "# Creating Alphabet Data!\n",
    "import random\n",
    "# Everything around length of around 8 now. 2 random number generator! \n",
    "data = {}\n",
    "for i in range(50000):\n",
    "    j = random.randint(0, 5)\n",
    "    randInt = random.randint(0+65, 23+65)\n",
    "    randInt2 = random.randint(0+65, 23+65)\n",
    "    randChr1 = str(chr(randInt))\n",
    "    randChr2 = str(chr(randInt2))\n",
    "    # 20% is mixed sequence of characters\n",
    "    if j == 0:\n",
    "        # Pick Random Int to break sequence. \n",
    "        seq1 = dictRules2[randChr1]\n",
    "        seq2 = dictRules2[randChr2]\n",
    "        # - 1 so the break sequence isn't at the end.\n",
    "        breSeq = random.randint(0, len(seq1)-1)\n",
    "        if len(seq2) > 1:\n",
    "            data[i] = seq1[0:breSeq] + [seq2[0]] + seq1[breSeq:len(seq1)] + ['PAD'] + seq2[1:len(seq2)]\n",
    "        else:\n",
    "            data[i] = seq1[0:breSeq] + [seq2[0]] + ['PAD'] + seq1[breSeq:len(seq1)]\n",
    "    # Non mixed   \n",
    "    else: \n",
    "        data[i] = dictRules2[randChr1] + ['PAD'] + dictRules2[randChr2]\n",
    "        \n",
    "dDF = pd.DataFrame.from_dict(data, orient='index', columns = ['ts0', 'ts1', 'ts2', 'ts3', 'ts4', 'ts5', 'ts6', 'ts7', 'ts8'])\n",
    "print(dDF)"
   ]
  },
  {
   "cell_type": "code",
   "execution_count": 7,
   "metadata": {
    "scrolled": true
   },
   "outputs": [
    {
     "name": "stdout",
     "output_type": "stream",
     "text": [
      "  ts0 ts1  ts2  ts3  ts4   ts5   ts6   ts7   ts8\n",
      "0   W   S    R    T  PAD     F     D     G  None\n",
      "1   W   T  PAD    S    R     T  None  None  None\n",
      "2   Q   R    T  PAD    Q     R     T  None  None\n",
      "3   U   Q    R    O    T   PAD     P     V  None\n",
      "4   K   J    X  PAD    T  None  None  None  None\n"
     ]
    }
   ],
   "source": [
    "\n",
    "print(dDF.head())"
   ]
  },
  {
   "cell_type": "markdown",
   "metadata": {},
   "source": [
    "### Some characteristics: \n",
    "1. Same graph is being mixed up ie: W   T  PAD    S    R     T  None  None  None\n",
    "T was suppose to be at the end and technically in the same graph. But because we are doing random starts and I created them as \"seperate\" graphs in the the dictionary it does this "
   ]
  },
  {
   "cell_type": "code",
   "execution_count": null,
   "metadata": {},
   "outputs": [],
   "source": [
    "pd.DataFrame(dDF).to_csv('.\\\\mixedDataSet.csv')"
   ]
  }
 ],
 "metadata": {
  "kernelspec": {
   "display_name": "Python 3",
   "language": "python",
   "name": "python3"
  },
  "language_info": {
   "codemirror_mode": {
    "name": "ipython",
    "version": 3
   },
   "file_extension": ".py",
   "mimetype": "text/x-python",
   "name": "python",
   "nbconvert_exporter": "python",
   "pygments_lexer": "ipython3",
   "version": "3.7.5"
  }
 },
 "nbformat": 4,
 "nbformat_minor": 2
}
